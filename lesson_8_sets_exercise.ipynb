{
  "nbformat": 4,
  "nbformat_minor": 0,
  "metadata": {
    "colab": {
      "name": "lesson 8 sets exercise.ipynb",
      "provenance": [],
      "collapsed_sections": []
    },
    "kernelspec": {
      "name": "python3",
      "display_name": "Python 3"
    },
    "language_info": {
      "name": "python"
    }
  },
  "cells": [
    {
      "cell_type": "code",
      "source": [
        "my_set = {1,2,3,4,5,6}\n",
        "type(my_set)"
      ],
      "metadata": {
        "id": "L6Tl4VuJXn8L",
        "colab": {
          "base_uri": "https://localhost:8080/"
        },
        "outputId": "8d653801-dd7e-4c00-e816-3a00a59b74c8"
      },
      "execution_count": 18,
      "outputs": [
        {
          "output_type": "execute_result",
          "data": {
            "text/plain": [
              "set"
            ]
          },
          "metadata": {},
          "execution_count": 18
        }
      ]
    },
    {
      "cell_type": "markdown",
      "source": [
        "#methods used\n",
        "#add\n"
      ],
      "metadata": {
        "id": "7_fVT3d5alkG"
      }
    },
    {
      "cell_type": "code",
      "source": [
        "myset = set()\n",
        "myset.add(1)\n",
        "myset.add(2)\n",
        "myset.add(3)\n",
        "myset.add(4)\n",
        "myset.add(3)\n",
        "myset.add(1)\n",
        "myset.add(5)\n",
        "myset"
      ],
      "metadata": {
        "colab": {
          "base_uri": "https://localhost:8080/"
        },
        "id": "nyuDNYNIav_4",
        "outputId": "fe2c2430-de3a-4e99-b71b-86714eabf8a3"
      },
      "execution_count": 19,
      "outputs": [
        {
          "output_type": "execute_result",
          "data": {
            "text/plain": [
              "{1, 2, 3, 4, 5}"
            ]
          },
          "metadata": {},
          "execution_count": 19
        }
      ]
    },
    {
      "cell_type": "code",
      "source": [
        "test_results = {95,80,75,60}\n",
        "#add method\n",
        "\n",
        "test_results.add(100)\n",
        "test_results.add(100)\n",
        "test_results.add(80)\n",
        "test_results.add(65)\n",
        "\n",
        "test_results"
      ],
      "metadata": {
        "colab": {
          "base_uri": "https://localhost:8080/"
        },
        "id": "UW_FCt7sdmNc",
        "outputId": "168119af-576f-4024-ad3a-0368b3b21fc0"
      },
      "execution_count": 25,
      "outputs": [
        {
          "output_type": "execute_result",
          "data": {
            "text/plain": [
              "{60, 65, 75, 80, 95, 100}"
            ]
          },
          "metadata": {},
          "execution_count": 25
        }
      ]
    },
    {
      "cell_type": "code",
      "execution_count": null,
      "metadata": {
        "colab": {
          "base_uri": "https://localhost:8080/"
        },
        "id": "EeINm-S1AVM3",
        "outputId": "111e2e69-d33e-4957-cbc3-a3fd47e0b0a9"
      },
      "outputs": [
        {
          "output_type": "execute_result",
          "data": {
            "text/plain": [
              "{1, 2, 3, 4, 5}"
            ]
          },
          "metadata": {},
          "execution_count": 1
        }
      ],
      "source": [
        "my_tuple = (1,2,3,4,3,5,3,5)\n",
        "\n",
        "result = set(my_tuple)\n",
        "\n",
        "result"
      ]
    },
    {
      "cell_type": "code",
      "source": [
        "my_list = [1,2,3,4,5,1,2,3,4,5]\n",
        "\n",
        "result1 = set(my_list)\n",
        "\n",
        "print(result1)"
      ],
      "metadata": {
        "colab": {
          "base_uri": "https://localhost:8080/"
        },
        "id": "3xfnKcJEbITA",
        "outputId": "95731718-8590-4656-9f71-4a4b80efaa7d"
      },
      "execution_count": 20,
      "outputs": [
        {
          "output_type": "stream",
          "name": "stdout",
          "text": [
            "{1, 2, 3, 4, 5}\n"
          ]
        }
      ]
    },
    {
      "cell_type": "markdown",
      "source": [
        "#Intersection\n",
        "shows the items that are similar within a set or more sets.\n"
      ],
      "metadata": {
        "id": "fehF23a4B9ND"
      }
    },
    {
      "cell_type": "code",
      "source": [
        "#intersection\n",
        "\n",
        "set_A = {4,6,10,21,14,5,2,11}\n",
        "set_B = {1,8,7,13,12,3,5,2,11}\n",
        "\n",
        "result2 = set.intersection(set_A,set_B)\n",
        "\n",
        "print(result2)"
      ],
      "metadata": {
        "colab": {
          "base_uri": "https://localhost:8080/"
        },
        "id": "HvPseee2CLIm",
        "outputId": "32a8a1c3-e5cf-4beb-a19b-ca715ca3b353"
      },
      "execution_count": null,
      "outputs": [
        {
          "output_type": "stream",
          "name": "stdout",
          "text": [
            "{2, 11, 5}\n"
          ]
        }
      ]
    },
    {
      "cell_type": "code",
      "source": [
        "set_A = {2,4,5,6,10,11,14,21}\n",
        "set_B = {1,8,7,13,12,3,5,2,11}\n",
        "set_C = {2,5,6,10,13,18,19,20}\n",
        "\n",
        "result2 = set.intersection(set_A,set_B,set_C)\n",
        "\n",
        "print(result2)"
      ],
      "metadata": {
        "colab": {
          "base_uri": "https://localhost:8080/"
        },
        "id": "yezenv-yEZMa",
        "outputId": "b87a3d17-eec2-4ce8-a9a2-570da71106b4"
      },
      "execution_count": null,
      "outputs": [
        {
          "output_type": "stream",
          "name": "stdout",
          "text": [
            "{2, 5}\n"
          ]
        }
      ]
    },
    {
      "cell_type": "code",
      "source": [
        "#Difference\n",
        "set_A = {2,4,5,6,10,11,14,21}\n",
        "set_B = {1,2,3,5,8,7,11,12,13}\n",
        "set_C = {2,5,6,10,13,18,19,20}\n",
        "\n",
        "result3 = set_A.difference(set_B)# unique items that appear in one set \n",
        "#and are not in the other\n",
        "\n",
        "\n",
        "print(result3)"
      ],
      "metadata": {
        "id": "TsURePpUJJ0t",
        "colab": {
          "base_uri": "https://localhost:8080/"
        },
        "outputId": "8f724d16-2f81-409f-ece8-d77a018af852"
      },
      "execution_count": 23,
      "outputs": [
        {
          "output_type": "stream",
          "name": "stdout",
          "text": [
            "{4, 6, 10, 14, 21}\n"
          ]
        }
      ]
    },
    {
      "cell_type": "code",
      "source": [
        "#union\n",
        "\n",
        "set_A = {2,4,5,6,10,11,14,21}\n",
        "set_B = {1,8,7,13,12,3,5,2,11}\n",
        "set_C = {2,5,6,10,13,18,19,20}\n",
        "\n",
        "result2 = set.union(set_A,set_B,set_C)\n",
        "\n",
        "print(result2)"
      ],
      "metadata": {
        "colab": {
          "base_uri": "https://localhost:8080/"
        },
        "id": "w_cSbgjUcRaA",
        "outputId": "a1c7959f-d2ca-4c42-e987-9f67cf07b6dc"
      },
      "execution_count": 24,
      "outputs": [
        {
          "output_type": "stream",
          "name": "stdout",
          "text": [
            "{1, 2, 3, 4, 5, 6, 7, 8, 10, 11, 12, 13, 14, 18, 19, 20, 21}\n"
          ]
        }
      ]
    },
    {
      "cell_type": "code",
      "source": [
        "#boolean\n",
        "1 == 1\n"
      ],
      "metadata": {
        "colab": {
          "base_uri": "https://localhost:8080/"
        },
        "id": "VE0XZV9UEyG_",
        "outputId": "6e021279-d239-428b-975c-2d310a28b877"
      },
      "execution_count": null,
      "outputs": [
        {
          "output_type": "execute_result",
          "data": {
            "text/plain": [
              "True"
            ]
          },
          "metadata": {},
          "execution_count": 12
        }
      ]
    },
    {
      "cell_type": "code",
      "source": [
        "1 > 1"
      ],
      "metadata": {
        "colab": {
          "base_uri": "https://localhost:8080/"
        },
        "id": "2OqEjHobEyO1",
        "outputId": "ae2ba861-f5e8-428f-8baf-8e477b2508a3"
      },
      "execution_count": null,
      "outputs": [
        {
          "output_type": "execute_result",
          "data": {
            "text/plain": [
              "False"
            ]
          },
          "metadata": {},
          "execution_count": 13
        }
      ]
    },
    {
      "cell_type": "code",
      "source": [
        "1 < 1"
      ],
      "metadata": {
        "colab": {
          "base_uri": "https://localhost:8080/"
        },
        "id": "qdn1NUplEzGP",
        "outputId": "e91dc235-ff3b-45a7-8aba-4a99bac1b12a"
      },
      "execution_count": null,
      "outputs": [
        {
          "output_type": "execute_result",
          "data": {
            "text/plain": [
              "False"
            ]
          },
          "metadata": {},
          "execution_count": 14
        }
      ]
    },
    {
      "cell_type": "code",
      "source": [
        "1 > 0"
      ],
      "metadata": {
        "colab": {
          "base_uri": "https://localhost:8080/"
        },
        "id": "ntejO2H4Ew8v",
        "outputId": "824e6e26-6ece-414c-a544-a626d070a630"
      },
      "execution_count": null,
      "outputs": [
        {
          "output_type": "execute_result",
          "data": {
            "text/plain": [
              "True"
            ]
          },
          "metadata": {},
          "execution_count": 17
        }
      ]
    },
    {
      "cell_type": "code",
      "source": [
        "set_A = {2,4,5,6,10,11,14,21}\n",
        "set_B = {1,8,7,13,12,3,5,2,11}\n",
        "set_C = {2,5,6,10,13,18,19,20}\n",
        "\n",
        "result2 = set.difference(set_A,set_B,set_C)\n",
        "\n",
        "print(result2)"
      ],
      "metadata": {
        "colab": {
          "base_uri": "https://localhost:8080/"
        },
        "outputId": "ded71bac-2fba-4108-a2d6-f22a71089857",
        "id": "eyw51a1RKWPJ"
      },
      "execution_count": null,
      "outputs": [
        {
          "output_type": "stream",
          "name": "stdout",
          "text": [
            "{4, 14, 21}\n"
          ]
        }
      ]
    },
    {
      "cell_type": "markdown",
      "source": [
        "Exercises:\n",
        "\n",
        "How do you add an element to a set"
      ],
      "metadata": {
        "id": "_GY7obmbe3i0"
      }
    },
    {
      "cell_type": "code",
      "source": [
        "\n",
        "\n",
        "set_C = {1000, 2000, 3000, 2000, 5000}\n",
        "set_D = {3000, 4000, 5000, 7000, 8000, 9000}\n",
        "\n",
        "type(set_C)"
      ],
      "metadata": {
        "id": "O-q1tv3_ExEk",
        "colab": {
          "base_uri": "https://localhost:8080/"
        },
        "outputId": "9808a109-991f-44c9-bb96-1f3fa3ff765e"
      },
      "execution_count": 26,
      "outputs": [
        {
          "output_type": "execute_result",
          "data": {
            "text/plain": [
              "set"
            ]
          },
          "metadata": {},
          "execution_count": 26
        }
      ]
    },
    {
      "cell_type": "code",
      "source": [
        "set_C.add(6000)\n",
        "set_C.add(6000)\n",
        "set_C.add(10)\n",
        "\n",
        "set_C"
      ],
      "metadata": {
        "colab": {
          "base_uri": "https://localhost:8080/"
        },
        "id": "OtwTFwYCge1M",
        "outputId": "d22abaff-493d-4ac1-a468-0fcb3bc175be"
      },
      "execution_count": 27,
      "outputs": [
        {
          "output_type": "execute_result",
          "data": {
            "text/plain": [
              "{10, 1000, 2000, 3000, 5000, 6000}"
            ]
          },
          "metadata": {},
          "execution_count": 27
        }
      ]
    },
    {
      "cell_type": "code",
      "source": [
        "#set.intersection()\n",
        "\n",
        "set_C = {1000,2000,3000,2000,5000}\n",
        "set_D = {3000,4000,5000,7000.8000,9000}\n",
        "\n",
        "results = set.intersection(set_C, set_D)\n",
        "print(results)"
      ],
      "metadata": {
        "colab": {
          "base_uri": "https://localhost:8080/"
        },
        "id": "D2crvanUkpt3",
        "outputId": "a814d44a-69bf-4f07-f9ac-ce4c98111714"
      },
      "execution_count": 36,
      "outputs": [
        {
          "output_type": "stream",
          "name": "stdout",
          "text": [
            "{5000, 3000}\n"
          ]
        }
      ]
    },
    {
      "cell_type": "code",
      "source": [
        "#set.difference()\n",
        "\n",
        "set_C = {1000,2000,3000,2000,5000}\n",
        "set_D = {3000,4000,5000,7000,8000,9000}\n",
        "\n",
        "results = set_C.difference(set_D)\n",
        "print(results)\n",
        "\n"
      ],
      "metadata": {
        "colab": {
          "base_uri": "https://localhost:8080/"
        },
        "id": "QnP0hEHJmGCw",
        "outputId": "3d29a489-8e37-4d39-c3d4-3ad585a5cb70"
      },
      "execution_count": 37,
      "outputs": [
        {
          "output_type": "stream",
          "name": "stdout",
          "text": [
            "{1000, 2000}\n"
          ]
        }
      ]
    },
    {
      "cell_type": "code",
      "source": [
        "#set.union()\n",
        "\n",
        "set_C = {1000,2000,3000,2000,5000}\n",
        "set_D = {3000,4000,5000,7000,8000,9000}\n",
        "\n",
        "results = set.union(set_C, set_D)\n",
        "print(results)"
      ],
      "metadata": {
        "colab": {
          "base_uri": "https://localhost:8080/"
        },
        "id": "j91V5A0Rm64l",
        "outputId": "195dee89-7ff9-4be1-9744-3d7c8e010281"
      },
      "execution_count": 39,
      "outputs": [
        {
          "output_type": "stream",
          "name": "stdout",
          "text": [
            "{4000, 8000, 1000, 5000, 9000, 2000, 7000, 3000}\n"
          ]
        }
      ]
    },
    {
      "cell_type": "markdown",
      "source": [
        "2. How does a set differ from a List?\n",
        "\n",
        "Sets dont show the repeated items within the set whereas the List shows the repeated items within the set. "
      ],
      "metadata": {
        "id": "hcncCIWIhV2Y"
      }
    },
    {
      "cell_type": "code",
      "source": [
        "test_results = set()\n",
        "\n",
        "test_results.add(65)\n",
        "test_results.add(70)\n",
        "test_results.add(65)\n",
        "test_results.add(80)\n",
        "test_results.add(80)\n",
        "\n",
        "test_results"
      ],
      "metadata": {
        "colab": {
          "base_uri": "https://localhost:8080/"
        },
        "id": "ppKFl3NmhaIk",
        "outputId": "10aef0f0-8f49-4d11-c23e-d055319283c2"
      },
      "execution_count": 30,
      "outputs": [
        {
          "output_type": "execute_result",
          "data": {
            "text/plain": [
              "{65, 70, 80}"
            ]
          },
          "metadata": {},
          "execution_count": 30
        }
      ]
    },
    {
      "cell_type": "code",
      "source": [
        "my_list = [0,1,2, 3, 3, 4, 5, 5, 7]\n",
        "result = set(my_list)\n",
        "result\n",
        "\n"
      ],
      "metadata": {
        "colab": {
          "base_uri": "https://localhost:8080/"
        },
        "outputId": "dd0e3374-f8d2-4782-a164-c2391b8e02d7",
        "id": "bqsAE9pUKsBV"
      },
      "execution_count": 31,
      "outputs": [
        {
          "output_type": "execute_result",
          "data": {
            "text/plain": [
              "{0, 1, 2, 3, 4, 5, 7}"
            ]
          },
          "metadata": {},
          "execution_count": 31
        }
      ]
    },
    {
      "cell_type": "markdown",
      "source": [
        " 3. What is the result of set[1,2,1,4,2,4,1]"
      ],
      "metadata": {
        "id": "RASig6-Uj_6I"
      }
    },
    {
      "cell_type": "code",
      "source": [
        "my_list = [1,2,1,4,2,4,1]\n",
        "result = set(my_list)\n",
        "result"
      ],
      "metadata": {
        "id": "oufuTcLtEkjl",
        "colab": {
          "base_uri": "https://localhost:8080/"
        },
        "outputId": "9dde4b4b-01d3-46bd-f18d-024e2b0707e2"
      },
      "execution_count": 32,
      "outputs": [
        {
          "output_type": "execute_result",
          "data": {
            "text/plain": [
              "{1, 2, 4}"
            ]
          },
          "metadata": {},
          "execution_count": 32
        }
      ]
    },
    {
      "cell_type": "markdown",
      "source": [
        "4. What is the result of Len (set([1,2,1,4,2,4,1]))"
      ],
      "metadata": {
        "id": "iWJkfw2InyAC"
      }
    },
    {
      "cell_type": "code",
      "source": [
        "my_list = [1,2,1,4,2,4,1]\n",
        "result = len(my_list)\n",
        "result"
      ],
      "metadata": {
        "colab": {
          "base_uri": "https://localhost:8080/"
        },
        "id": "qRk5lM6Kn1hR",
        "outputId": "fb225900-97a3-491e-a1e2-5b61a6742b38"
      },
      "execution_count": 40,
      "outputs": [
        {
          "output_type": "execute_result",
          "data": {
            "text/plain": [
              "7"
            ]
          },
          "metadata": {},
          "execution_count": 40
        }
      ]
    },
    {
      "cell_type": "code",
      "source": [
        ""
      ],
      "metadata": {
        "id": "Jinb_bHTka02"
      },
      "execution_count": null,
      "outputs": []
    }
  ]
}