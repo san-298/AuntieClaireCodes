{
  "nbformat": 4,
  "nbformat_minor": 0,
  "metadata": {
    "colab": {
      "name": "Lesson 3 exercise.ipynb",
      "provenance": [],
      "collapsed_sections": []
    },
    "kernelspec": {
      "name": "python3",
      "display_name": "Python 3"
    },
    "language_info": {
      "name": "python"
    }
  },
  "cells": [
    {
      "cell_type": "code",
      "execution_count": 1,
      "metadata": {
        "colab": {
          "base_uri": "https://localhost:8080/"
        },
        "id": "nt2HZBZaxpBx",
        "outputId": "60becff3-fc97-4adb-a15c-bef2697743e6"
      },
      "outputs": [
        {
          "output_type": "stream",
          "name": "stdout",
          "text": [
            "HelloWorld!\n"
          ]
        }
      ],
      "source": [
        "print(\"Hello\" + \"World!\")"
      ]
    },
    {
      "cell_type": "markdown",
      "source": [
        ""
      ],
      "metadata": {
        "id": "2sX14E4AxqAT"
      }
    },
    {
      "cell_type": "code",
      "source": [
        "print(\"Name:\" + \"Charles\")\n",
        "print(\"Address:\" + \"Ntinda\")"
      ],
      "metadata": {
        "colab": {
          "base_uri": "https://localhost:8080/"
        },
        "id": "DrR_Uk4qyQef",
        "outputId": "c1b4f2fe-16fa-492a-85e1-ee1a8fd57f86"
      },
      "execution_count": 2,
      "outputs": [
        {
          "output_type": "stream",
          "name": "stdout",
          "text": [
            "Name:Charles\n",
            "Address:Ntinda\n"
          ]
        }
      ]
    },
    {
      "cell_type": "code",
      "source": [
        "print(\"Hello\" + \" \" + \"World!\")"
      ],
      "metadata": {
        "colab": {
          "base_uri": "https://localhost:8080/"
        },
        "id": "fJhsnev3ySZv",
        "outputId": "8cb83cbd-f443-4904-9806-5f8e50c31cff"
      },
      "execution_count": 3,
      "outputs": [
        {
          "output_type": "stream",
          "name": "stdout",
          "text": [
            "Hello World!\n"
          ]
        }
      ]
    },
    {
      "cell_type": "code",
      "source": [
        "print(\"Sandra\" + \"16\")"
      ],
      "metadata": {
        "colab": {
          "base_uri": "https://localhost:8080/"
        },
        "id": "dG3JDyQZyZv3",
        "outputId": "2023e463-a7a4-448c-debf-68e4ed5e3e98"
      },
      "execution_count": 4,
      "outputs": [
        {
          "output_type": "stream",
          "name": "stdout",
          "text": [
            "Sandra16\n"
          ]
        }
      ]
    },
    {
      "cell_type": "code",
      "source": [
        "print(\"Sandra\" + \" \" + \"16\")"
      ],
      "metadata": {
        "colab": {
          "base_uri": "https://localhost:8080/"
        },
        "id": "Q-YqkilYysIB",
        "outputId": "6c06479d-4df0-42cc-a273-1a058048b939"
      },
      "execution_count": 5,
      "outputs": [
        {
          "output_type": "stream",
          "name": "stdout",
          "text": [
            "Sandra 16\n"
          ]
        }
      ]
    },
    {
      "cell_type": "code",
      "source": [
        "print(\"Name:\" + \"Sandra\")\n",
        "print(\"Age:\"+\"16\")"
      ],
      "metadata": {
        "colab": {
          "base_uri": "https://localhost:8080/"
        },
        "id": "QtKHv7ziyxwW",
        "outputId": "91cf3241-291c-436e-d9a1-88b85881b1c2"
      },
      "execution_count": 6,
      "outputs": [
        {
          "output_type": "stream",
          "name": "stdout",
          "text": [
            "Name:Sandra\n",
            "Age:16\n"
          ]
        }
      ]
    },
    {
      "cell_type": "markdown",
      "source": [
        "#Methods of strings\n",
        "\n",
        "capitalize()\n",
        "lower()\n",
        "upper()\n",
        "index()\n",
        "clear()"
      ],
      "metadata": {
        "id": "Cuyv_3vjzEj-"
      }
    },
    {
      "cell_type": "code",
      "source": [
        "name = \"sandra\"\n",
        "result = name.capitalize()\n",
        "print(result)"
      ],
      "metadata": {
        "colab": {
          "base_uri": "https://localhost:8080/"
        },
        "id": "DqIM9x3YzGfG",
        "outputId": "60c1833d-258b-4107-d588-b6190eed1fab"
      },
      "execution_count": 7,
      "outputs": [
        {
          "output_type": "stream",
          "name": "stdout",
          "text": [
            "Sandra\n"
          ]
        }
      ]
    },
    {
      "cell_type": "code",
      "source": [
        "name = \"BASHIR\"\n",
        "result = name.capitalize()\n",
        "print(result)"
      ],
      "metadata": {
        "colab": {
          "base_uri": "https://localhost:8080/"
        },
        "id": "CadfdtL8y4Sl",
        "outputId": "9c0aa0c7-c5b3-4b60-b025-8dfd0c5ecc88"
      },
      "execution_count": 8,
      "outputs": [
        {
          "output_type": "stream",
          "name": "stdout",
          "text": [
            "Bashir\n"
          ]
        }
      ]
    },
    {
      "cell_type": "code",
      "source": [
        "name = \"BASHIR\"\n",
        "result = name.lower()\n",
        "print(result)"
      ],
      "metadata": {
        "colab": {
          "base_uri": "https://localhost:8080/"
        },
        "id": "AzJTNOm6zXXa",
        "outputId": "11827b34-d31e-4262-d2fb-a77e5cd1c3c5"
      },
      "execution_count": 9,
      "outputs": [
        {
          "output_type": "stream",
          "name": "stdout",
          "text": [
            "bashir\n"
          ]
        }
      ]
    },
    {
      "cell_type": "code",
      "source": [
        "name = \"sandra\"\n",
        "result = name.lower()\n",
        "print(result)"
      ],
      "metadata": {
        "colab": {
          "base_uri": "https://localhost:8080/"
        },
        "id": "ob9JR8gNzdfW",
        "outputId": "1a1ad22e-049e-4418-887d-6f7fc452088d"
      },
      "execution_count": 10,
      "outputs": [
        {
          "output_type": "stream",
          "name": "stdout",
          "text": [
            "sandra\n"
          ]
        }
      ]
    },
    {
      "cell_type": "code",
      "source": [
        "input = {1: \"Yasin\", 2: \"Four\"}\n",
        "#output = input\n",
        "input.clear()\n",
        "print(input)"
      ],
      "metadata": {
        "colab": {
          "base_uri": "https://localhost:8080/"
        },
        "id": "ZNUsFvUQziUU",
        "outputId": "fe6370af-4e14-40d4-8f71-6321ef352b9c"
      },
      "execution_count": 11,
      "outputs": [
        {
          "output_type": "stream",
          "name": "stdout",
          "text": [
            "{}\n"
          ]
        }
      ]
    },
    {
      "cell_type": "markdown",
      "source": [
        "#methods \n",
        "\n",
        ".index()\n",
        "\n",
        "#functions\n",
        "\n",
        "print()"
      ],
      "metadata": {
        "id": "07L1m9zjzySa"
      }
    },
    {
      "cell_type": "code",
      "source": [
        ""
      ],
      "metadata": {
        "id": "h1bT06lrz1lQ"
      },
      "execution_count": null,
      "outputs": []
    },
    {
      "cell_type": "code",
      "source": [
        "#replace method\n",
        "words = \"I am extremely tired.\"\n",
        "\n",
        "words = words.replace(\".\",\"!\")\n",
        "\n",
        "print(words)"
      ],
      "metadata": {
        "colab": {
          "base_uri": "https://localhost:8080/"
        },
        "id": "N73Z0ky7zq4X",
        "outputId": "1acbb85a-4523-4071-f948-5276028dfa40"
      },
      "execution_count": 12,
      "outputs": [
        {
          "output_type": "stream",
          "name": "stdout",
          "text": [
            "I am extremely tired!\n"
          ]
        }
      ]
    },
    {
      "cell_type": "code",
      "source": [
        "d = \"d stands for dragon!\"\n",
        "\n",
        "d = d.replace(\"!\",\".\")\n",
        "\n",
        "print(d)"
      ],
      "metadata": {
        "colab": {
          "base_uri": "https://localhost:8080/"
        },
        "id": "Y3Fai0IGz6o8",
        "outputId": "ccf8a73b-103b-448f-94d2-40b2cb7cac3b"
      },
      "execution_count": 13,
      "outputs": [
        {
          "output_type": "stream",
          "name": "stdout",
          "text": [
            "d stands for dragon.\n"
          ]
        }
      ]
    },
    {
      "cell_type": "code",
      "source": [
        "g = \"Moureen is going to school tomorrow.\"\n",
        "\n",
        "ans = g[0]+g[3]+g[-1]\n",
        "\n",
        "print(ans)"
      ],
      "metadata": {
        "colab": {
          "base_uri": "https://localhost:8080/"
        },
        "id": "h3y__Ucr0E8x",
        "outputId": "db49f206-852a-4721-dc74-e7f7007cfee1"
      },
      "execution_count": 14,
      "outputs": [
        {
          "output_type": "stream",
          "name": "stdout",
          "text": [
            "Mr.\n"
          ]
        }
      ]
    },
    {
      "cell_type": "code",
      "source": [
        "g = \"Moureen is going to school tomorrow.\"\n",
        "\n",
        "ans = g[6]+g[8]+g[9]\n",
        "\n",
        "print(ans)"
      ],
      "metadata": {
        "colab": {
          "base_uri": "https://localhost:8080/"
        },
        "id": "ifzSFWK50OZB",
        "outputId": "8e7d76df-783a-4404-97ed-d31c7eb16ec8"
      },
      "execution_count": 15,
      "outputs": [
        {
          "output_type": "stream",
          "name": "stdout",
          "text": [
            "nis\n"
          ]
        }
      ]
    },
    {
      "cell_type": "code",
      "source": [
        "girl = \"Nancy is a very sturbborn student.\"\n",
        "\n",
        "result = girl.startswith(\"T\")\n",
        "\n",
        "print(result)"
      ],
      "metadata": {
        "colab": {
          "base_uri": "https://localhost:8080/"
        },
        "id": "EAA4LkX80ULB",
        "outputId": "85ebfa6f-18c2-48c0-97e5-86d707a032d9"
      },
      "execution_count": 16,
      "outputs": [
        {
          "output_type": "stream",
          "name": "stdout",
          "text": [
            "False\n"
          ]
        }
      ]
    },
    {
      "cell_type": "code",
      "source": [
        "girl = \"Nancy is a very sturbborn student.\"\n",
        "\n",
        "result = girl.startswith(\"N\")\n",
        "\n",
        "print(result)"
      ],
      "metadata": {
        "colab": {
          "base_uri": "https://localhost:8080/"
        },
        "id": "_3KEdrPT0YDE",
        "outputId": "e67b8595-e5d4-48bb-a60c-14f831814be4"
      },
      "execution_count": 17,
      "outputs": [
        {
          "output_type": "stream",
          "name": "stdout",
          "text": [
            "True\n"
          ]
        }
      ]
    },
    {
      "cell_type": "code",
      "source": [
        "paul = \"He loves Thriller movies.\"\n",
        "\n",
        "ans = paul.index(\"r\")\n",
        "\n",
        "print(ans)"
      ],
      "metadata": {
        "colab": {
          "base_uri": "https://localhost:8080/"
        },
        "id": "ZsdaLWs00fSQ",
        "outputId": "2ef645d0-38bd-4c5a-c090-02882e66967e"
      },
      "execution_count": 18,
      "outputs": [
        {
          "output_type": "stream",
          "name": "stdout",
          "text": [
            "11\n"
          ]
        }
      ]
    },
    {
      "cell_type": "code",
      "source": [
        "movies = \"The best action movie is Italian Job.\"\n",
        "\n",
        "ans = movies.find(\"J\")\n",
        "\n",
        "print(ans)"
      ],
      "metadata": {
        "colab": {
          "base_uri": "https://localhost:8080/"
        },
        "id": "VMfJYrY50mXI",
        "outputId": "8d84e75d-5426-4f2b-c03a-15e510251d2f"
      },
      "execution_count": 19,
      "outputs": [
        {
          "output_type": "stream",
          "name": "stdout",
          "text": [
            "33\n"
          ]
        }
      ]
    },
    {
      "cell_type": "code",
      "source": [
        "words = \"People often love partying than productive stuff.\"\n",
        "\n",
        "ans_1 = words.count(\"t\")\n",
        "\n",
        "print(ans_1)"
      ],
      "metadata": {
        "colab": {
          "base_uri": "https://localhost:8080/"
        },
        "id": "W19XsMeM0uYm",
        "outputId": "30a81fdf-f914-4e6d-acfd-87c6719d7e25"
      },
      "execution_count": 20,
      "outputs": [
        {
          "output_type": "stream",
          "name": "stdout",
          "text": [
            "5\n"
          ]
        }
      ]
    },
    {
      "cell_type": "code",
      "source": [
        "a = \"1\"\n",
        "b = 1\n",
        "c = 1.0\n",
        "\n",
        "result_1 = type(a)\n",
        "result_2 = type(b)\n",
        "result_3 = type(c)\n",
        "\n",
        "print(result_1)\n",
        "print(result_2)\n",
        "print(result_3)"
      ],
      "metadata": {
        "colab": {
          "base_uri": "https://localhost:8080/"
        },
        "id": "AsaMeO3K00sG",
        "outputId": "c7c4ab44-96ac-40f6-ba46-bc7c1f22dbfc"
      },
      "execution_count": 21,
      "outputs": [
        {
          "output_type": "stream",
          "name": "stdout",
          "text": [
            "<class 'str'>\n",
            "<class 'int'>\n",
            "<class 'float'>\n"
          ]
        }
      ]
    },
    {
      "cell_type": "code",
      "source": [
        "#len() function \n",
        "\n",
        "words = \"23.555555555\"\n",
        "\n",
        "result = len(words)\n",
        "\n",
        "print(result)"
      ],
      "metadata": {
        "colab": {
          "base_uri": "https://localhost:8080/"
        },
        "id": "U9eekLcT1Uov",
        "outputId": "54f9cc84-bceb-4872-c3b3-aba9a3b68f97"
      },
      "execution_count": 22,
      "outputs": [
        {
          "output_type": "stream",
          "name": "stdout",
          "text": [
            "12\n"
          ]
        }
      ]
    },
    {
      "cell_type": "code",
      "source": [
        "name = \"Charles\"\n",
        "number = 12\n",
        "weight = 20.0\n",
        "\n",
        "result_1 = type(name)\n",
        "result_2 = type(number)\n",
        "result_3 = type(weight)\n",
        "\n",
        "print(result_1)\n",
        "print(result_2)\n",
        "print(result_3)"
      ],
      "metadata": {
        "colab": {
          "base_uri": "https://localhost:8080/"
        },
        "id": "sHFosMGg1c1E",
        "outputId": "57c8ceac-8ed5-47b3-c75b-538d7670a428"
      },
      "execution_count": 23,
      "outputs": [
        {
          "output_type": "stream",
          "name": "stdout",
          "text": [
            "<class 'str'>\n",
            "<class 'int'>\n",
            "<class 'float'>\n"
          ]
        }
      ]
    },
    {
      "cell_type": "code",
      "source": [
        "name = \"Peter loves football 911\"\n",
        "\n",
        "ans = type(name)\n",
        "\n",
        "print(ans)"
      ],
      "metadata": {
        "colab": {
          "base_uri": "https://localhost:8080/"
        },
        "id": "ZhXLtyI11jG4",
        "outputId": "7a6656ea-427d-4b6c-bcb2-41e0a0aa69f3"
      },
      "execution_count": 24,
      "outputs": [
        {
          "output_type": "stream",
          "name": "stdout",
          "text": [
            "<class 'str'>\n"
          ]
        }
      ]
    },
    {
      "cell_type": "markdown",
      "source": [
        "#Exercsise for lesson 3\n",
        "\n",
        "1.List 10 string methods\n",
        "\n",
        "1 capitalize\n",
        "\n",
        "2 upper\n",
        "\n",
        "3 lower\n",
        "\n",
        "4 casefold\n",
        "\n",
        "5 endswith\n",
        "\n",
        "5 startswith\n",
        "\n",
        "6 replace\n",
        "\n",
        "7 count\n",
        "\n",
        "8 find\n",
        "\n",
        "9 index\n",
        "\n",
        "10 endswith\n",
        "\n",
        "\n",
        "2.Explain what each method does and provide an example.\n",
        "\n",
        "Capitalize - Converts the first character to upper case"
      ],
      "metadata": {
        "id": "pm8dtP3O1raV"
      }
    },
    {
      "cell_type": "code",
      "source": [
        "#capitalize\n",
        "\n",
        "city = \"rio de Janeiro\"\n",
        "result = city.capitalize()\n",
        "print(result)"
      ],
      "metadata": {
        "colab": {
          "base_uri": "https://localhost:8080/"
        },
        "id": "OpJKW5DR1yjK",
        "outputId": "bdb579a6-ccfb-4846-bc48-a65987537ed2"
      },
      "execution_count": 27,
      "outputs": [
        {
          "output_type": "stream",
          "name": "stdout",
          "text": [
            "Rio de janeiro\n"
          ]
        }
      ]
    },
    {
      "cell_type": "markdown",
      "source": [
        "Upper means to convert the whole sentence to upper case"
      ],
      "metadata": {
        "id": "-9mVizAoC1c1"
      }
    },
    {
      "cell_type": "markdown",
      "source": [
        ""
      ],
      "metadata": {
        "id": "F1jcOExIDNvI"
      }
    },
    {
      "cell_type": "code",
      "source": [
        "#upper\n",
        "\n",
        "school = \"Bat Valley Primary School\"\n",
        "result = school.upper()\n",
        "print(result)"
      ],
      "metadata": {
        "colab": {
          "base_uri": "https://localhost:8080/"
        },
        "id": "Vk2JTTMh2V6d",
        "outputId": "106a9761-d780-4704-baf1-f31147a7bf59"
      },
      "execution_count": 28,
      "outputs": [
        {
          "output_type": "stream",
          "name": "stdout",
          "text": [
            "BAT VALLEY PRIMARY SCHOOL\n"
          ]
        }
      ]
    },
    {
      "cell_type": "markdown",
      "source": [
        "Lower means to convert the whole sentence to lower case"
      ],
      "metadata": {
        "id": "WeOU2VEHDQYd"
      }
    },
    {
      "cell_type": "code",
      "source": [
        "#lower\n",
        "\n",
        "name = \"BITCOIN\"\n",
        "result = name.lower()\n",
        "print(result)"
      ],
      "metadata": {
        "colab": {
          "base_uri": "https://localhost:8080/"
        },
        "id": "4lqIlDtH3Mie",
        "outputId": "2c605d1b-4ab4-49d7-b3c8-93aada6b4e60"
      },
      "execution_count": 29,
      "outputs": [
        {
          "output_type": "stream",
          "name": "stdout",
          "text": [
            "bitcoin\n"
          ]
        }
      ]
    },
    {
      "cell_type": "markdown",
      "source": [
        "Casefold means to convert string into lower case"
      ],
      "metadata": {
        "id": "bFboDlFPDrf4"
      }
    },
    {
      "cell_type": "code",
      "source": [
        "#casefold\n",
        "\n",
        "name = \"mccline\"\n",
        "result = name.casefold()\n",
        "print(result)\n"
      ],
      "metadata": {
        "colab": {
          "base_uri": "https://localhost:8080/"
        },
        "id": "vkLICMS43c_R",
        "outputId": "7b48661e-9616-4fb4-ce03-6eb63ba61d0c"
      },
      "execution_count": 30,
      "outputs": [
        {
          "output_type": "stream",
          "name": "stdout",
          "text": [
            "mccline\n"
          ]
        }
      ]
    },
    {
      "cell_type": "markdown",
      "source": [
        "Count means to return the number of times a specified value occurs in a string."
      ],
      "metadata": {
        "id": "hZuKjWYWD2wQ"
      }
    },
    {
      "cell_type": "code",
      "source": [
        "#count\n",
        "\n",
        "movies = \"the best movie is Gods must be crazy\"\n",
        "ans_1 = movies.count(\"m\")\n",
        "print(ans_1)\n",
        "\n"
      ],
      "metadata": {
        "colab": {
          "base_uri": "https://localhost:8080/"
        },
        "id": "HVMDllAV4CPm",
        "outputId": "cae1f16c-4ad2-44d4-b621-16d9a1b2ccfc"
      },
      "execution_count": 32,
      "outputs": [
        {
          "output_type": "stream",
          "name": "stdout",
          "text": [
            "1\n"
          ]
        }
      ]
    },
    {
      "cell_type": "markdown",
      "source": [
        "Enswith means to return true if the string ends with the specified value."
      ],
      "metadata": {
        "id": "h-goNMdkEFVC"
      }
    },
    {
      "cell_type": "code",
      "source": [
        "# endswith\n",
        "\n",
        "child = \"John's appetite is very low.\"\n",
        "result = child.endswith(\".\")\n",
        "print(result)"
      ],
      "metadata": {
        "colab": {
          "base_uri": "https://localhost:8080/"
        },
        "id": "B-i1jP1Y4204",
        "outputId": "0501dde3-c4cd-47c7-db1b-583f8b8dc6df"
      },
      "execution_count": 33,
      "outputs": [
        {
          "output_type": "stream",
          "name": "stdout",
          "text": [
            "True\n"
          ]
        }
      ]
    },
    {
      "cell_type": "code",
      "source": [
        "child = \"John's appetite is very low.\"\n",
        "result = child.endswith(\"!\")\n",
        "print(result)"
      ],
      "metadata": {
        "colab": {
          "base_uri": "https://localhost:8080/"
        },
        "id": "vP2_VOIp9XRT",
        "outputId": "ffb49a38-aabf-4851-ad26-781ae77d9adc"
      },
      "execution_count": 34,
      "outputs": [
        {
          "output_type": "stream",
          "name": "stdout",
          "text": [
            "False\n"
          ]
        }
      ]
    },
    {
      "cell_type": "markdown",
      "source": [
        "Find means to Searches the string for a specified value and returns the position of where it was found."
      ],
      "metadata": {
        "id": "kljzipAA-S1u"
      }
    },
    {
      "cell_type": "code",
      "source": [
        "movie = \"My best movie is God's must be crazy\"\n",
        "result = movies.find(\"G\")\n",
        "print(result)"
      ],
      "metadata": {
        "colab": {
          "base_uri": "https://localhost:8080/"
        },
        "id": "4EREXP959g2P",
        "outputId": "5cade189-c6c6-42eb-d87a-1152cc02cd92"
      },
      "execution_count": 35,
      "outputs": [
        {
          "output_type": "stream",
          "name": "stdout",
          "text": [
            "18\n"
          ]
        }
      ]
    },
    {
      "cell_type": "markdown",
      "source": [
        "Startswith means to returns true if the string starts with the specified value."
      ],
      "metadata": {
        "id": "71i9ocWVEfx6"
      }
    },
    {
      "cell_type": "code",
      "source": [
        "#startswith\n",
        "\n",
        "continents = \"There are seven continents.\"\n",
        "result = continents.startswith(\"C\")\n",
        "print(result)"
      ],
      "metadata": {
        "colab": {
          "base_uri": "https://localhost:8080/"
        },
        "id": "oUcpqanW93Vm",
        "outputId": "20800e22-949c-4d45-cf22-4d01923ab48f"
      },
      "execution_count": 40,
      "outputs": [
        {
          "output_type": "stream",
          "name": "stdout",
          "text": [
            "False\n"
          ]
        }
      ]
    },
    {
      "cell_type": "markdown",
      "source": [
        "Index means to search the string for a specified value and return the position of where it was found."
      ],
      "metadata": {
        "id": "kyHQ-WNjEvMp"
      }
    },
    {
      "cell_type": "code",
      "source": [
        "#index\n",
        "\n",
        "christian = \"He likes dogs.\"\n",
        "ans = christian.index(\"d\")\n",
        "print(ans)"
      ],
      "metadata": {
        "colab": {
          "base_uri": "https://localhost:8080/"
        },
        "id": "ss2_Cy_W-9H5",
        "outputId": "04dff6f5-1be4-4506-bf7a-3fbc2cd86271"
      },
      "execution_count": 41,
      "outputs": [
        {
          "output_type": "stream",
          "name": "stdout",
          "text": [
            "9\n"
          ]
        }
      ]
    },
    {
      "cell_type": "markdown",
      "source": [
        "Replace means to return a string where a specified value is replaced with another specified value."
      ],
      "metadata": {
        "id": "ZdEFV4vAFg6Q"
      }
    },
    {
      "cell_type": "code",
      "source": [
        "#replace\n",
        "\n",
        "words = \"Sandra is a wonder.\"\n",
        "words = words.replace(\".\",\"!\")\n",
        "print(words)"
      ],
      "metadata": {
        "colab": {
          "base_uri": "https://localhost:8080/"
        },
        "id": "xJjbxv_zALyZ",
        "outputId": "99d8a9bf-2f5f-40e1-81ff-39d9b20787d5"
      },
      "execution_count": 43,
      "outputs": [
        {
          "output_type": "stream",
          "name": "stdout",
          "text": [
            "Sandra is a wonder!\n"
          ]
        }
      ]
    },
    {
      "cell_type": "code",
      "source": [
        "words = \" Sandra is a wonder.\"\n",
        "words = words.replace(\"wonder\", \"genius\")\n",
        "print(words)\n"
      ],
      "metadata": {
        "colab": {
          "base_uri": "https://localhost:8080/"
        },
        "id": "1oRwWhxIBBTY",
        "outputId": "d9671bb4-f411-40af-fe2c-dbf27284dfda"
      },
      "execution_count": 47,
      "outputs": [
        {
          "output_type": "stream",
          "name": "stdout",
          "text": [
            " Sandra is a genius.\n"
          ]
        }
      ]
    },
    {
      "cell_type": "code",
      "source": [
        ""
      ],
      "metadata": {
        "id": "54wONrNvBUCi"
      },
      "execution_count": null,
      "outputs": []
    }
  ]
}